{
 "cells": [
  {
   "cell_type": "code",
   "execution_count": 11,
   "metadata": {},
   "outputs": [],
   "source": [
    "from tensorflow.compat.v1 import InteractiveSession\n",
    "from tensorflow.compat.v1 import ConfigProto\n",
    "\n",
    "import os\n",
    "import numpy as np\n",
    "import matplotlib.pyplot as plt\n",
    "import argparse\n",
    "\n",
    "from models import CNNArchitecture\n",
    "\n",
    "from keras.preprocessing.image import ImageDataGenerator\n",
    "from keras.optimizers import Adam\n",
    "\n",
    "# To regenerate the results\n",
    "seed = 7\n",
    "np.random.seed(seed)\n",
    "\n",
    "\n",
    "# Tensorflow Stuff\n",
    "config = ConfigProto()\n",
    "config.gpu_options.allow_growth = True\n",
    "session = InteractiveSession(config=config)"
   ]
  },
  {
   "cell_type": "code",
   "execution_count": 12,
   "metadata": {},
   "outputs": [],
   "source": [
    "def train_model(model, callbacks_list, name, train_batchs, test_batchs, epochs):\n",
    "\n",
    "    num_train_images = len(train_batchs.filenames)\n",
    "    train_batch_size = train_batchs.batch_size\n",
    "    num_test_images = len(test_batchs.filenames)\n",
    "    test_batch_size = test_batchs.batch_size\n",
    "\n",
    "    # Start Training\n",
    "    history = model.fit_generator(\n",
    "        train_batches,\n",
    "        validation_data=test_batches,\n",
    "        epochs=epochs,\n",
    "        verbose=1,\n",
    "        steps_per_epoch=num_train_images // train_batch_size,\n",
    "#         steps_per_epoch=10,\n",
    "        validation_steps=num_test_images // test_batch_size,\n",
    "#         validation_steps=5,\n",
    "        callbacks=callbacks_list\n",
    "    )\n",
    "\n",
    "    _, (ax1, ax2) = plt.subplots(2)\n",
    "    ax1.plot(history.history['acc'])\n",
    "    ax1.plot(history.history['val_acc'])\n",
    "    ax1.set_title(f'{name}_model_accuracy')\n",
    "    ax1.set_ylabel('accuracy')\n",
    "    ax1.set_xlabel('epoch')\n",
    "    ax1.legend(['train', 'test'], loc='upper left')\n",
    "    ax2.plot(history.history['loss'])\n",
    "    ax2.plot(history.history['val_loss'])\n",
    "    ax2.set_title(f'{name}_model_loss')\n",
    "    ax2.set_ylabel('loss')\n",
    "    ax2.set_xlabel('epoch')\n",
    "    ax2.legend(['train', 'test'], loc='upper left')\n",
    "    plt.tight_layout()\n",
    "    plt.savefig(f\"./model_checkpoints/{name}/{name}.png\")"
   ]
  },
  {
   "cell_type": "code",
   "execution_count": null,
   "metadata": {},
   "outputs": [
    {
     "name": "stdout",
     "output_type": "stream",
     "text": [
      "Found 8448 images belonging to 2 classes.\n",
      "Found 1817 images belonging to 2 classes.\n",
      "WARNING:tensorflow:From /home/smart_gandola/anaconda3/envs/sgandola/lib/python3.7/site-packages/keras/backend/tensorflow_backend.py:1834: The name tf.nn.fused_batch_norm is deprecated. Please use tf.compat.v1.nn.fused_batch_norm instead.\n",
      "\n"
     ]
    },
    {
     "name": "stderr",
     "output_type": "stream",
     "text": [
      "/home/smart_gandola/anaconda3/envs/sgandola/lib/python3.7/site-packages/keras_applications/resnet50.py:265: UserWarning: The output shape of `ResNet50(include_top=False)` has been changed since Keras 2.2.0.\n",
      "  warnings.warn('The output shape of `ResNet50(include_top=False)` '\n",
      "/home/smart_gandola/Desktop/Muaz/models.py:146: UserWarning: Update your `Model` call to the Keras 2 API: `Model(outputs=Tensor(\"de..., inputs=Tensor(\"in...)`\n",
      "  model = Model(input=resnet_model.input, outputs=predictions)\n"
     ]
    },
    {
     "name": "stdout",
     "output_type": "stream",
     "text": [
      "*** TRAINING STARTED FOR resnet_50 ***\n",
      "Epoch 1/50\n",
      "  58/1056 [>.............................] - ETA: 7:06 - loss: 0.8956 - acc: 0.7155"
     ]
    }
   ],
   "source": [
    "processed_data = \"./updatedData/\"\n",
    "epochs = 50\n",
    "\n",
    "# Get Processed data\n",
    "train_path = processed_data + \"train\"\n",
    "test_path = processed_data + \"test\"\n",
    "\n",
    "# Load the data in batches via ImageDataGenerator\n",
    "train_batches = ImageDataGenerator(rescale=1/255).flow_from_directory(\n",
    "    train_path, target_size=(512, 512), classes=['valid', 'invalid'], batch_size=8)\n",
    "test_batches = ImageDataGenerator(rescale=1/255).flow_from_directory(\n",
    "    test_path, target_size=(512, 512), classes=['valid', 'invalid'], batch_size=4)\n",
    "\n",
    "# Meta Data\n",
    "input_shape = train_batches.image_shape\n",
    "num_classes = len(np.unique(train_batches.classes))\n",
    "loss = 'categorical_crossentropy'\n",
    "optimizer = Adam()\n",
    "epochs = int(epochs)\n",
    "\n",
    "# Get model architecure\n",
    "cnn_model = CNNArchitecture(input_shape, num_classes, loss, optimizer)\n",
    "\n",
    "# Train VGG\n",
    "# vgg_16, callbacks_list, name = cnn_model.VGG_16()\n",
    "# train_model(vgg_16, callbacks_list, name,\n",
    "#             train_batches, test_batches, epochs)\n",
    "\n",
    "\n",
    "# Train Resnet\n",
    "resnet_50, callbacks_list, name = cnn_model.resnet_50()\n",
    "train_model(resnet_50, callbacks_list, name,\n",
    "            train_batches, test_batches, epochs)\n",
    "\n",
    "# Train Inception\n",
    "inception_v3, callbacks_list, name = cnn_model.inception_v3()\n",
    "train_model(inception_v3, callbacks_list,\n",
    "            name, train_batches, test_batches, epochs)\n",
    "\n",
    "# Train Inception_Resnet_V2\n",
    "inception_resnet_v2, callbacks_list, name = cnn_model.inception_resnet_v2()\n",
    "train_model(inception_resnet_v2, callbacks_list,\n",
    "             name, train_batches, test_batches, epochs)"
   ]
  },
  {
   "cell_type": "code",
   "execution_count": null,
   "metadata": {},
   "outputs": [],
   "source": []
  }
 ],
 "metadata": {
  "kernelspec": {
   "display_name": "Python 3",
   "language": "python",
   "name": "python3"
  },
  "language_info": {
   "codemirror_mode": {
    "name": "ipython",
    "version": 3
   },
   "file_extension": ".py",
   "mimetype": "text/x-python",
   "name": "python",
   "nbconvert_exporter": "python",
   "pygments_lexer": "ipython3",
   "version": "3.7.4"
  }
 },
 "nbformat": 4,
 "nbformat_minor": 2
}
